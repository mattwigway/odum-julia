{
 "cells": [
  {
   "cell_type": "markdown",
   "id": "c258af8b-ca50-4416-a6a4-e93f4df9fd2e",
   "metadata": {},
   "source": [
    "# Reading data into Julia\n",
    "\n",
    "This notebooks demonstrates reading data into Julia and performing basic manipulations."
   ]
  },
  {
   "cell_type": "markdown",
   "id": "0ad541b8-f74b-4fe5-bd5b-0ca5a37df988",
   "metadata": {},
   "source": [
    "## Load libraries\n",
    "\n",
    "First, we need to load the libraries we will be working with. In Julia, functionality tends to be split between libraries much more than it is in other languages such as Python or R. To read data from a CSV file, we need two libraries: CSV and DataFrames. We also load the StatsBase package, which contains many basic statistical functions (mean, standard deviation, etc.)."
   ]
  },
  {
   "cell_type": "code",
   "execution_count": null,
   "id": "01f4d32f-a628-4cfb-af1a-0ef1333dc80a",
   "metadata": {},
   "outputs": [],
   "source": [
    "using CSV, DataFrames, StatsBase"
   ]
  },
  {
   "cell_type": "markdown",
   "id": "6ff81bb4-4bf7-4807-b178-d69ddbf51ddc",
   "metadata": {},
   "source": [
    "## Reading data\n",
    "\n",
    "Since CSV reading and tabular data manipulation are split across libraries, we use the `CSV.read` function to load data into a `DataFrame`.\n",
    "\n",
    "Unlike many other languages, Julia in an interactive session will print out the result of an operation, even if you assign it to a variable. To prevent this, add a semicolon at the end of the line."
   ]
  },
  {
   "cell_type": "code",
   "execution_count": null,
   "id": "c5244209-e155-4e29-ac20-54494dd15210",
   "metadata": {},
   "outputs": [],
   "source": [
    "sensors = CSV.read(\"data/bay_area_freeways.csv\", DataFrame)"
   ]
  },
  {
   "cell_type": "markdown",
   "id": "d398c3fe-db85-4180-8312-3941e35aa577",
   "metadata": {},
   "source": [
    "## Accessing data in a loaded table\n",
    "\n",
    "Once the data is loaded, we can access it by column or by row. Each column is a Vector (known as an array or list in other languages)."
   ]
  },
  {
   "cell_type": "code",
   "execution_count": null,
   "id": "1e250839-338c-45b8-89ac-039c3aa52ac4",
   "metadata": {},
   "outputs": [],
   "source": [
    "sensors.avg_occ"
   ]
  },
  {
   "cell_type": "markdown",
   "id": "8209be1c-c5f9-4d8c-91cc-b7b8186a3105",
   "metadata": {},
   "source": [
    "## Computing functions of columns\n",
    "\n",
    "Many functions in Julia are defined for Vectors of numbers—for instance, the mean."
   ]
  },
  {
   "cell_type": "code",
   "execution_count": null,
   "id": "3b8deddc-3080-4e65-803b-b0a69e31861d",
   "metadata": {},
   "outputs": [],
   "source": [
    "mean(sensors.avg_occ)"
   ]
  },
  {
   "cell_type": "markdown",
   "id": "b2a4f6c3-63ac-4c14-a17a-75c59895cb6c",
   "metadata": {},
   "source": [
    "## Transforming columns\n",
    "\n",
    "You can apply any Julia function elementwise using the . operator."
   ]
  },
  {
   "cell_type": "code",
   "execution_count": null,
   "id": "b50bbb04-7410-4f81-9b70-b3a21242a3d7",
   "metadata": {},
   "outputs": [],
   "source": [
    "log.(sensors.avg_occ)"
   ]
  },
  {
   "cell_type": "markdown",
   "id": "0e330acb-bce4-48fe-8371-baba0038adb7",
   "metadata": {},
   "source": [
    "## Filtering data\n",
    "\n",
    "You can also filter by rows by using logical operators. Like functions, they can be applied elementwise with a . operator, but the . goes before the operator. We have to explicitly specify that we want all columns (`:`)"
   ]
  },
  {
   "cell_type": "code",
   "execution_count": null,
   "id": "28eb3ccf-8a48-4d85-b511-10b056931801",
   "metadata": {},
   "outputs": [],
   "source": [
    "sensors[sensors.avg_occ .> 0.05,:]"
   ]
  },
  {
   "cell_type": "markdown",
   "id": "9ef5de36-abb5-4ee2-8662-02e9a6971994",
   "metadata": {},
   "source": [
    "### Logical operators\n",
    "\n",
    "`sensors.avg_occ .> 0.05` is nothing particularly special, it's just creating a vector of boolean values, one for each row of the data, indicating whether that row has `avg_occ` > 0.05."
   ]
  },
  {
   "cell_type": "code",
   "execution_count": null,
   "id": "eb936198-9cf7-4d66-8afa-ec5f72b22fe9",
   "metadata": {},
   "outputs": [],
   "source": [
    "sensors.avg_occ .> 0.05"
   ]
  },
  {
   "cell_type": "markdown",
   "id": "e5579d88-8864-453b-8b5f-00e5bb373bb0",
   "metadata": {},
   "source": [
    "## Split-apply-combine\n",
    "\n",
    "Split-apply-combine is a common pattern in many other data manipulation languages (e.g. groupby in Python, group_by %>% summarize in R). This pattern involves dividing the dataset based on the values of certain variables, applying operations to each subset, and combining the results - most often into a single row per group. For instance, we can compute mean occupancy by freeway and direction, below.\n",
    "\n",
    "In Julia, we use the `groupby` and `combine` functions for this. We reference variable names by placing a : in front of them, or putting them in double quotes if they contain spaces, dashes, or start with a number."
   ]
  },
  {
   "cell_type": "code",
   "execution_count": null,
   "id": "fdeed6d9-ee6e-454f-a188-3fec50a65afc",
   "metadata": {},
   "outputs": [],
   "source": [
    "combine(\n",
    "    groupby(sensors, [:freeway_number, :direction]),  # Group the data by these variables. You only need [] if you are grouping by multiple variables.\n",
    "    # and create a new variable mean_avg_occ by applying the mean() function to the avg_occ column in\n",
    "    # each subset of the data\n",
    "    :avg_occ => mean => :mean_avg_occ  \n",
    ")"
   ]
  },
  {
   "cell_type": "code",
   "execution_count": null,
   "id": "25822fa8-c941-4cd3-9bce-64713fb7546d",
   "metadata": {},
   "outputs": [],
   "source": []
  }
 ],
 "metadata": {
  "kernelspec": {
   "display_name": "Julia 1.7.0",
   "language": "julia",
   "name": "julia-1.7"
  },
  "language_info": {
   "file_extension": ".jl",
   "mimetype": "application/julia",
   "name": "julia",
   "version": "1.7.1"
  }
 },
 "nbformat": 4,
 "nbformat_minor": 5
}
