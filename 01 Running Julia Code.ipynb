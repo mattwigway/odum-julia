{
 "cells": [
  {
   "cell_type": "markdown",
   "id": "af6719f0-1dbf-4e5b-a9dd-313464adf3d8",
   "metadata": {},
   "source": [
    "# Running Julia code\n",
    "\n",
    "This notebook is a simple notebook that confirms the environment is working."
   ]
  },
  {
   "cell_type": "code",
   "execution_count": null,
   "id": "d4c14c1f-2f61-4de4-b4e1-1617ff64bf4a",
   "metadata": {},
   "outputs": [],
   "source": [
    "using DataFrames, CSV"
   ]
  },
  {
   "cell_type": "code",
   "execution_count": null,
   "id": "e9d189a5-83e9-41a2-96e7-63484baa5409",
   "metadata": {},
   "outputs": [],
   "source": [
    "println(\"Hello world!\")"
   ]
  },
  {
   "cell_type": "code",
   "execution_count": null,
   "id": "16e9c6c4-a484-4144-adad-0b7fd3165581",
   "metadata": {},
   "outputs": [],
   "source": []
  }
 ],
 "metadata": {
  "kernelspec": {
   "display_name": "Julia 1.7.0",
   "language": "julia",
   "name": "julia-1.7"
  },
  "language_info": {
   "file_extension": ".jl",
   "mimetype": "application/julia",
   "name": "julia",
   "version": "1.7.1"
  }
 },
 "nbformat": 4,
 "nbformat_minor": 5
}
