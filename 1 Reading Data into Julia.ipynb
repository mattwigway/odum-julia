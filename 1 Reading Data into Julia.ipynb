{
 "cells": [
  {
   "cell_type": "markdown",
   "id": "c258af8b-ca50-4416-a6a4-e93f4df9fd2e",
   "metadata": {},
   "source": [
    "# Reading data into Julia\n",
    "\n",
    "This notebooks demonstrates reading data into Julia and performing basic manipulations."
   ]
  },
  {
   "cell_type": "markdown",
   "id": "0ad541b8-f74b-4fe5-bd5b-0ca5a37df988",
   "metadata": {},
   "source": [
    "## Load libraries\n",
    "\n",
    "First, we need to load the libraries we will be working with. In Julia, functionality tends to be split between libraries much more than it is in other languages such as Python or R. To read data from a CSV file, we need two libraries: CSV and DataFrames. We also load the StatsBase package, which contains many basic statistical functions (mean, standard deviation, etc.). DataFramesMeta provides some additional syntax to make analysis more readable."
   ]
  },
  {
   "cell_type": "code",
   "execution_count": null,
   "id": "01f4d32f-a628-4cfb-af1a-0ef1333dc80a",
   "metadata": {},
   "outputs": [],
   "source": [
    "using CSV, DataFrames, StatsBase, DataFramesMeta"
   ]
  },
  {
   "cell_type": "markdown",
   "id": "6ff81bb4-4bf7-4807-b178-d69ddbf51ddc",
   "metadata": {},
   "source": [
    "## Reading data\n",
    "\n",
    "Since CSV reading and tabular data manipulation are split across libraries, we use the `CSV.read` function to load data into a `DataFrame`.\n",
    "\n",
    "Unlike many other languages, Julia in an interactive session will print out the result of an operation, even if you assign it to a variable. To prevent this, add a semicolon at the end of the last line."
   ]
  },
  {
   "cell_type": "code",
   "execution_count": null,
   "id": "c5244209-e155-4e29-ac20-54494dd15210",
   "metadata": {},
   "outputs": [],
   "source": [
    "sensors = CSV.read(\"data/bay_area_freeways.csv\", DataFrame)"
   ]
  },
  {
   "cell_type": "markdown",
   "id": "d398c3fe-db85-4180-8312-3941e35aa577",
   "metadata": {},
   "source": [
    "## Accessing data in a loaded table\n",
    "\n",
    "Once the data is loaded, we can access it by column or by row. Each column is a Vector (known as an array or list in other languages)."
   ]
  },
  {
   "cell_type": "code",
   "execution_count": null,
   "id": "1e250839-338c-45b8-89ac-039c3aa52ac4",
   "metadata": {},
   "outputs": [],
   "source": [
    "sensors.avg_occ"
   ]
  },
  {
   "cell_type": "markdown",
   "id": "8209be1c-c5f9-4d8c-91cc-b7b8186a3105",
   "metadata": {},
   "source": [
    "## Computing functions of columns\n",
    "\n",
    "Many functions in Julia are defined for Vectors of numbers—for instance, the mean."
   ]
  },
  {
   "cell_type": "code",
   "execution_count": null,
   "id": "3b8deddc-3080-4e65-803b-b0a69e31861d",
   "metadata": {},
   "outputs": [],
   "source": [
    "mean(sensors.avg_occ)"
   ]
  },
  {
   "cell_type": "markdown",
   "id": "de1fd516-efa9-4435-ad29-caf5427eedef",
   "metadata": {},
   "source": [
    "## Dealing with missing data\n",
    "\n",
    "Datasets often have missing values. Julia represents these with the special value `missing`. Math with `missing` will generally result in `missing`, to avoid confusion when you don't use all the data you think you should. You can remove the missing values with `skipmissing`, and find them with `ismissing`."
   ]
  },
  {
   "cell_type": "code",
   "execution_count": null,
   "id": "3d538e2c-db23-43ba-9e3c-161c36ce2015",
   "metadata": {},
   "outputs": [],
   "source": [
    "sum(ismissing.(sensors.avg_occ))"
   ]
  },
  {
   "cell_type": "code",
   "execution_count": null,
   "id": "8170f48a-d055-406a-87ea-d4baeb24a70e",
   "metadata": {},
   "outputs": [],
   "source": [
    "mean(skipmissing(sensors.avg_occ))"
   ]
  },
  {
   "cell_type": "markdown",
   "id": "b2a4f6c3-63ac-4c14-a17a-75c59895cb6c",
   "metadata": {},
   "source": [
    "## Transforming columns\n",
    "\n",
    "You can apply any Julia function elementwise using the . operator."
   ]
  },
  {
   "cell_type": "code",
   "execution_count": null,
   "id": "b50bbb04-7410-4f81-9b70-b3a21242a3d7",
   "metadata": {},
   "outputs": [],
   "source": [
    "log.(sensors.avg_occ)"
   ]
  },
  {
   "cell_type": "markdown",
   "id": "0e330acb-bce4-48fe-8371-baba0038adb7",
   "metadata": {},
   "source": [
    "## Filtering data\n",
    "\n",
    "You can also filter by rows by using logical operators. Like functions, they can be applied elementwise with a . operator, but the . goes before the operator. We have to explicitly specify that we want all columns (`:`)"
   ]
  },
  {
   "cell_type": "code",
   "execution_count": null,
   "id": "28eb3ccf-8a48-4d85-b511-10b056931801",
   "metadata": {},
   "outputs": [],
   "source": [
    "sensors[sensors.avg_occ .> 0.05,:]"
   ]
  },
  {
   "cell_type": "markdown",
   "id": "9b4d8b30-7636-462c-9f69-5583cb623c97",
   "metadata": {},
   "source": [
    "## Missing data, again\n",
    "\n",
    "We get an error with the above command, because of the missing value, again. Julia doesn't know whether the missing value was greater than 0.05. We can use the `coalesce` function to make an assumption that it was not. `coalesce` returns its first nonmissing argument. In this case, we will use it with a `.` operator to apply to the entire array."
   ]
  },
  {
   "cell_type": "code",
   "execution_count": null,
   "id": "94c8e3db-0c12-4395-bbe8-8ab622a62afa",
   "metadata": {},
   "outputs": [],
   "source": [
    "sensors[coalesce.(sensors.avg_occ .> 0.05, false),:]"
   ]
  },
  {
   "cell_type": "markdown",
   "id": "11d2efbc-8199-49b3-afdc-139827376c80",
   "metadata": {},
   "source": [
    "## Removing missing data\n",
    "\n",
    "Alternately, we can just remove the missing data. This is pretty easy to do with the `ismissing` function and the filtering we've seen above."
   ]
  },
  {
   "cell_type": "code",
   "execution_count": null,
   "id": "e9cbb5c7-a7e5-4d50-bc6f-d3a507213598",
   "metadata": {},
   "outputs": [],
   "source": [
    "sensors = sensors[.!ismissing.(sensors.avg_occ),:]"
   ]
  },
  {
   "cell_type": "markdown",
   "id": "caa0caf6-2a69-424d-ae13-e55dd1158417",
   "metadata": {},
   "source": [
    "## Assertions\n",
    "\n",
    "It's a good idea to add assertions within your code regularly. You write out a check that should be true, and if it is not an error will be printed."
   ]
  },
  {
   "cell_type": "code",
   "execution_count": null,
   "id": "ca090e3e-0029-49a1-b995-2093f1f875ba",
   "metadata": {},
   "outputs": [],
   "source": [
    "# this will print no output if there are no missing sensors\n",
    "@assert !any(ismissing.(sensors.avg_occ))"
   ]
  },
  {
   "cell_type": "code",
   "execution_count": null,
   "id": "9cad06fb-cd85-4853-bab3-e6583f0b4170",
   "metadata": {},
   "outputs": [],
   "source": [
    "# but if the assertion fails, you'll get an error\n",
    "@assert all(sensors.avg_occ .< 0.05)"
   ]
  },
  {
   "cell_type": "markdown",
   "id": "9ef5de36-abb5-4ee2-8662-02e9a6971994",
   "metadata": {},
   "source": [
    "### Logical operators\n",
    "\n",
    "`sensors.avg_occ .> 0.05` is nothing particularly special, it's just creating a vector of boolean values, one for each row of the data, indicating whether that row has `avg_occ` > 0.05."
   ]
  },
  {
   "cell_type": "code",
   "execution_count": null,
   "id": "eb936198-9cf7-4d66-8afa-ec5f72b22fe9",
   "metadata": {},
   "outputs": [],
   "source": [
    "sensors.avg_occ .> 0.05"
   ]
  },
  {
   "cell_type": "markdown",
   "id": "e5579d88-8864-453b-8b5f-00e5bb373bb0",
   "metadata": {},
   "source": [
    "## Split-apply-combine\n",
    "\n",
    "Split-apply-combine is a common pattern in many other data manipulation languages (e.g. groupby in Python, group_by %>% summarize in R). This pattern involves dividing the dataset based on the values of certain variables, applying operations to each subset, and combining the results - most often into a single row per group. For instance, we can compute mean occupancy by freeway and direction, below.\n",
    "\n",
    "In Julia, we use the `groupby` and `combine` functions for this. We reference variable names by placing a : in front of them, or putting them in double quotes if they contain spaces, dashes, or start with a number. There are multiple ways to write out this operation; this uses plain Julia syntax to pass the result of the groupby into the combine operation."
   ]
  },
  {
   "cell_type": "code",
   "execution_count": null,
   "id": "9d3ad512-4e65-421f-b5fc-64d18c3665e6",
   "metadata": {},
   "outputs": [],
   "source": [
    "combine(\n",
    "    # Group the data by these variables. You only need [] if you are grouping by multiple variables.\n",
    "    groupby(sensors, [:freeway_number, :direction]),\n",
    "    # and create a new variable mean_avg_occ by applying the mean() function to the avg_occ column in\n",
    "    # each subset of the data\n",
    "    :avg_occ => mean => :mean_avg_occ\n",
    ")"
   ]
  },
  {
   "cell_type": "markdown",
   "id": "f7784bd6-797b-4f1e-b30e-b5f6476ca700",
   "metadata": {},
   "source": [
    "A more readable way to write this is as a \"chain,\" where we write out multiple function calls in order, and the result of each function call is used as the first argument to the next. If you've used `tidyverse` in R this will be familiar. This code does exactly the same thing as the code in the previous cell."
   ]
  },
  {
   "cell_type": "code",
   "execution_count": null,
   "id": "fdeed6d9-ee6e-454f-a188-3fec50a65afc",
   "metadata": {},
   "outputs": [],
   "source": [
    "@chain begin\n",
    "    # Group the data by these variables. You only need [] if you are grouping by multiple variables.\n",
    "    groupby(sensors, [:freeway_number, :direction])\n",
    "    # and create a new variable mean_avg_occ by applying the mean() function to the avg_occ column in\n",
    "    # each subset of the data\n",
    "    combine(:avg_occ => mean => :mean_avg_occ)\n",
    "end"
   ]
  },
  {
   "cell_type": "markdown",
   "id": "205c7b7b-94b3-4a11-a744-b55b3a7950c4",
   "metadata": {},
   "source": [
    "## Joins\n",
    "\n",
    "A very common operation is to join data sources together using a common column. In Julia, we can use the `leftjoin` function to do this (other types of joins are available as well). We will add sensor metadata to the database."
   ]
  },
  {
   "cell_type": "code",
   "execution_count": null,
   "id": "daf7b6ae-a668-4d08-b9af-0e31da9f9239",
   "metadata": {},
   "outputs": [],
   "source": [
    "meta = CSV.read(\"data/sensor_meta.csv\", DataFrame)"
   ]
  },
  {
   "cell_type": "code",
   "execution_count": null,
   "id": "bd69372c-5b1a-4beb-b9aa-a21cfb1cd8c0",
   "metadata": {},
   "outputs": [],
   "source": [
    "sensors = leftjoin(sensors, meta, on=:station=>:ID)"
   ]
  },
  {
   "cell_type": "code",
   "execution_count": null,
   "id": "27985280-e3d0-45fb-9396-2d0febd5ba46",
   "metadata": {},
   "outputs": [],
   "source": [
    "sensors.Lanes"
   ]
  },
  {
   "cell_type": "markdown",
   "id": "045611b7-eec8-442a-8290-586d9cb7adc3",
   "metadata": {},
   "source": [
    "## Shut down the kernel!\n",
    "\n",
    "When done, choose Kernel -> Shut Down Kernel to free memory for the next exercise."
   ]
  },
  {
   "cell_type": "code",
   "execution_count": null,
   "id": "69678326-ca26-4114-9950-67eadb652b00",
   "metadata": {},
   "outputs": [],
   "source": []
  }
 ],
 "metadata": {
  "kernelspec": {
   "display_name": "Julia 1.8.0",
   "language": "julia",
   "name": "julia-1.8"
  },
  "language_info": {
   "file_extension": ".jl",
   "mimetype": "application/julia",
   "name": "julia",
   "version": "1.8.1"
  }
 },
 "nbformat": 4,
 "nbformat_minor": 5
}
