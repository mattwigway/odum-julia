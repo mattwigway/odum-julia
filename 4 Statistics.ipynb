{
 "cells": [
  {
   "cell_type": "markdown",
   "id": "0b3cf6bd-05cf-4410-b6e1-cacac603ae19",
   "metadata": {},
   "source": [
    "# Statistics in Julia\n",
    "\n",
    "This notebook will demonstrate how to do basic statistics and machine learning in Julia, including descriptive statistics, regression, and machine learning."
   ]
  },
  {
   "cell_type": "code",
   "execution_count": null,
   "id": "00e6bcfa-220f-4af0-baff-048a5db91445",
   "metadata": {},
   "outputs": [],
   "source": [
    "using DataFrames, CSV, StatsBase, StatsModels, GLM, MLJ, Dates"
   ]
  },
  {
   "cell_type": "code",
   "execution_count": null,
   "id": "6aa52531-a03d-490a-8b1f-30865fe3b9f1",
   "metadata": {},
   "outputs": [],
   "source": [
    "sensors = CSV.read(\"data/bay_area_freeways.csv\", DataFrame)\n",
    "sensors = sensors[.!ismissing.(sensors.avg_occ),:]"
   ]
  },
  {
   "cell_type": "markdown",
   "id": "d61514cb-b657-4090-9672-3d09b00ea715",
   "metadata": {},
   "source": [
    "## Descriptive statistics\n",
    "\n",
    "StatsBase provides most common and many uncommon descriptive statistical measures (Kullback-Leibler divergence, anyone?). For instance, we can use the convenience function `describe()` to compute the mean and percentiles of a column, or the function `mean()` to get just the mean, or `cor()` for a Pearson's correlation."
   ]
  },
  {
   "cell_type": "code",
   "execution_count": null,
   "id": "d14cecd6-f386-4753-8fdb-30cd8fd45b4c",
   "metadata": {},
   "outputs": [],
   "source": [
    "describe(sensors.avg_speed_mph)"
   ]
  },
  {
   "cell_type": "code",
   "execution_count": null,
   "id": "0e1ed510-18d8-455a-9c99-b26ee1149ffb",
   "metadata": {},
   "outputs": [],
   "source": [
    "mean(sensors.avg_speed_mph)"
   ]
  },
  {
   "cell_type": "code",
   "execution_count": null,
   "id": "4478ef19-c187-4ca1-820b-fdbce730a5fa",
   "metadata": {},
   "outputs": [],
   "source": [
    "cor(sensors.avg_speed_mph, sensors.avg_occ)"
   ]
  },
  {
   "cell_type": "markdown",
   "id": "a36b9e4a-cbe4-4c8e-ac22-3e2f1d0ae591",
   "metadata": {},
   "source": [
    "## Combining descriptive statistics with groupby\n",
    "\n",
    "We can also compute descriptive statistics for groups using groupby/split-apply-combine."
   ]
  },
  {
   "cell_type": "code",
   "execution_count": null,
   "id": "53411c09-2507-47c7-a50d-f6c2c7946759",
   "metadata": {},
   "outputs": [],
   "source": [
    "combine(groupby(sensors, [:freeway_number, :direction]), :avg_speed_mph => mean)"
   ]
  },
  {
   "cell_type": "markdown",
   "id": "fa22cab7-cb22-49fe-98f0-8978ce448f0d",
   "metadata": {},
   "source": [
    "## Fitting a linear regression\n",
    "\n",
    "Before we can fit a linear regression, we need to join the metadata to the sensor data, so we have enough covariates. Then, we'll use the `lm` function from [GLM.jl](https://juliastats.org/GLM.jl/stable/) to estimate a linear regression."
   ]
  },
  {
   "cell_type": "code",
   "execution_count": null,
   "id": "f0ae5b1f-dd6c-4fd3-8856-946903d610eb",
   "metadata": {},
   "outputs": [],
   "source": [
    "meta = CSV.read(\"data/sensor_meta.csv\", DataFrame)\n",
    "sensors = leftjoin(sensors, meta, on=:station=>:ID);"
   ]
  },
  {
   "cell_type": "code",
   "execution_count": null,
   "id": "1470a3e4-a00b-4216-b750-def282794c7a",
   "metadata": {},
   "outputs": [],
   "source": [
    "# also create an hour-of-day and day-of-week variable\n",
    "sensors.hour = Dates.hour.(sensors.timestamp)\n",
    "sensors.day_of_week = Dates.dayname.(sensors.timestamp);"
   ]
  },
  {
   "cell_type": "code",
   "execution_count": null,
   "id": "db349f24-19e8-4f5c-a269-08aaf5b3cd87",
   "metadata": {},
   "outputs": [],
   "source": [
    "model = lm(@formula(avg_speed_mph ~ Lanes + day_of_week + hour), sensors, contrasts=Dict(:day_of_week=>DummyCoding(base=\"Monday\"), :hour=>DummyCoding()))"
   ]
  },
  {
   "cell_type": "markdown",
   "id": "475b00f9-0be4-478d-90a7-c7c5f06245da",
   "metadata": {},
   "source": [
    "### Model fit statistics\n",
    "\n",
    "The table printed above shows coefficients and statistics, but not any information about the model fit. We can examine the $R^2$, number of observations, etc. with function of the model object."
   ]
  },
  {
   "cell_type": "code",
   "execution_count": null,
   "id": "1554d64a-6f67-43f7-b20a-47bd43540422",
   "metadata": {},
   "outputs": [],
   "source": [
    "r2(model)"
   ]
  },
  {
   "cell_type": "code",
   "execution_count": null,
   "id": "26a2ee5b-d31b-4b86-8a4a-a9f6cad35dd1",
   "metadata": {},
   "outputs": [],
   "source": [
    "nobs(model)"
   ]
  },
  {
   "cell_type": "markdown",
   "id": "20c948c7-8c1c-4c59-b00e-48aa958e22b3",
   "metadata": {},
   "source": [
    "## Machine learning\n",
    "\n",
    "Sometimes a linear regression might not be the right tool for the job. [MLJ.jl](https://github.com/alan-turing-institute/MLJ.jl) provides a common interface to many different machine learning functions available in Julia. We're going to declare a sensor \"congested\" if the speed is less than 55 mph, and build a random forest classifier to predict if sensors are congested."
   ]
  },
  {
   "cell_type": "code",
   "execution_count": null,
   "id": "8912c253-1187-4b0b-b1af-4164a9dceca3",
   "metadata": {},
   "outputs": [],
   "source": [
    "# first, we will load the MLJ RandomForestClassifier from the DecisionTree package\n",
    "RandomForestRegressor = @load RandomForestRegressor pkg=DecisionTree"
   ]
  },
  {
   "cell_type": "markdown",
   "id": "159084aa-c52f-4fc8-8b0d-0aa8299736d2",
   "metadata": {},
   "source": [
    "### Creating our independent and dependent variables\n",
    "\n",
    "As before, we'll use Lanes, day of week, and hour to predict congestion. MLJ requires a data frames with independent variables, and a vector with the dependent variables. Since random forests can split ordinal data arbitrarily, we create a new numeric day of week variable to preserve ordering information. We're only using the first 100,000 observations in the interests of time, but you can use all 10 million and it will work - in about 15 minutes in this example."
   ]
  },
  {
   "cell_type": "code",
   "execution_count": null,
   "id": "f5dc7884-067d-414b-aad9-e4aaa92d037e",
   "metadata": {},
   "outputs": [],
   "source": [
    "sensors.day_of_week_number = Dates.dayofweek.(sensors.timestamp)\n",
    "X = sensors[1:100000, [:Lanes, :hour, :day_of_week_number]]\n",
    "# Sometimes a column will have a data type that is Union{Int64, Missing} (i.e. integers with missing values),\n",
    "# even if there are no missing values. Most MLJ models will not accept these columns. disallowmissing! will\n",
    "# change the types of these columns to just Int64 without missings, and throw an error if there actually were\n",
    "# any missing values.\n",
    "disallowmissing!(X)\n",
    "\n",
    "# We also need to tell it that this is a categorical variable, not a numeric one.\n",
    "y = sensors.avg_speed_mph[1:100000];\n"
   ]
  },
  {
   "cell_type": "markdown",
   "id": "d3928054-9dcb-4cac-b0ab-2ce1977b123b",
   "metadata": {},
   "source": [
    "### Preventing overfitting\n",
    "\n",
    "As with any machine learning model, we want to evaluate our estimated model using separate training and test data to avoid overfitting. MLJ provides the `evaluate` function to use various test-error-rate estimation methods."
   ]
  },
  {
   "cell_type": "code",
   "execution_count": null,
   "id": "3fbe1c9c-9f9f-4516-92d3-549c3b486495",
   "metadata": {},
   "outputs": [],
   "source": [
    "evaluate(RandomForestRegressor(max_depth=10), X, y; resampling=CV(nfolds=5), measure=rsq)"
   ]
  },
  {
   "cell_type": "markdown",
   "id": "02113593-8e5f-4e04-8a8d-15b74be5c33f",
   "metadata": {},
   "source": [
    "## Building a final model\n",
    "\n",
    "Usually we want to build a model on the full dataset once we're happy with the cross-validation results. We can then use this to predict future outcomes. To do this, we create a \"machine\" that associates the model we want to use with the data, and then call `fit!` on that machine. "
   ]
  },
  {
   "cell_type": "code",
   "execution_count": null,
   "id": "6669773f-6f61-48a7-aaaa-d21785cca77c",
   "metadata": {},
   "outputs": [],
   "source": [
    "mach = machine(RandomForestRegressor(max_depth=10), X, y)"
   ]
  },
  {
   "cell_type": "code",
   "execution_count": null,
   "id": "56ac30be-be2c-4dc9-beaa-c0f6b4688fb3",
   "metadata": {},
   "outputs": [],
   "source": [
    "fit!(mach)"
   ]
  },
  {
   "cell_type": "markdown",
   "id": "79225d5a-eceb-4889-b383-6f6e8fdf93e8",
   "metadata": {},
   "source": [
    "## Predicting with our machine learning model\n",
    "\n",
    "Let's use our model to predict the speed on a 3-lane freeway at 8am on a Monday morning."
   ]
  },
  {
   "cell_type": "code",
   "execution_count": null,
   "id": "0ad064c4-1ceb-4bbb-8f6a-e48d837e03d4",
   "metadata": {},
   "outputs": [],
   "source": [
    "new_data = DataFrame(Dict(:Lanes=>[3], :hour_of_day=>[8], :day_of_week_number=>[1]))"
   ]
  },
  {
   "cell_type": "code",
   "execution_count": null,
   "id": "dba12ad8-25e7-4399-bc1d-5efd972e0480",
   "metadata": {},
   "outputs": [],
   "source": [
    "predictions = MLJ.predict(mach, new_data)"
   ]
  },
  {
   "cell_type": "markdown",
   "id": "cbda84e3-6a35-4569-82d9-6334bc1c7ea7",
   "metadata": {},
   "source": [
    "## Shut down the kernel\n",
    "\n",
    "To preserve memory for the following exercises."
   ]
  },
  {
   "cell_type": "code",
   "execution_count": null,
   "id": "db40bb6c-26f4-4f55-9789-c30fff5c3a89",
   "metadata": {},
   "outputs": [],
   "source": []
  }
 ],
 "metadata": {
  "kernelspec": {
   "display_name": "Julia 1.7.2",
   "language": "julia",
   "name": "julia-1.7"
  },
  "language_info": {
   "file_extension": ".jl",
   "mimetype": "application/julia",
   "name": "julia",
   "version": "1.7.2"
  }
 },
 "nbformat": 4,
 "nbformat_minor": 5
}
