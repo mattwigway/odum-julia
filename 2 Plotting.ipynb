{
 "cells": [
  {
   "cell_type": "markdown",
   "id": "22c58651-6ac3-475b-843a-949134cac34a",
   "metadata": {},
   "source": [
    "# Plotting\n",
    "\n",
    "We often want to visualize our datasets. There are several plotting libraries for Julia - in this exercise, we will use the most common, [Plots.jl](https://github.com/JuliaPlots/Plots.jl)."
   ]
  },
  {
   "cell_type": "markdown",
   "id": "c72f553e-52aa-4d9f-b2a4-13ae94bdc942",
   "metadata": {},
   "source": [
    "## Load libraries and data\n",
    "\n",
    "As before. This time, we put a semicolon after the `CSV.read` function so our whole table is not printed out."
   ]
  },
  {
   "cell_type": "code",
   "execution_count": null,
   "id": "cd6e3ab0-0be2-47a0-8bdb-d034d2eef4d3",
   "metadata": {},
   "outputs": [],
   "source": [
    "using CSV, DataFrames, Plots, Dates, StatsBase"
   ]
  },
  {
   "cell_type": "code",
   "execution_count": null,
   "id": "798a11de-c821-4c9e-a85c-2df737bc7314",
   "metadata": {},
   "outputs": [],
   "source": [
    "sensors = CSV.read(\"data/bay_area_freeways.csv\", DataFrame);"
   ]
  },
  {
   "cell_type": "markdown",
   "id": "fa2c26ba-f45a-43bd-b8ad-ed43059f9c11",
   "metadata": {},
   "source": [
    "## Create a simple scatter plot\n",
    "\n",
    "There are a lot of different types of plots that you can make with Plots.jl - we'll start with one of the most basic, a scatter plot. This might take a minute since it's plotting 10 million points. `fmt=:png` tells Julia to format the plot as a raster (pixel-based) image, so that the browser is not trying to render 10 million points itself—you won't need this for smaller plots."
   ]
  },
  {
   "cell_type": "code",
   "execution_count": null,
   "id": "f60d5e9b-f68f-44a9-8f50-7663b70e7117",
   "metadata": {},
   "outputs": [],
   "source": [
    "scatter(sensors.avg_occ, sensors.avg_speed_mph, fmt=:png)"
   ]
  },
  {
   "cell_type": "markdown",
   "id": "8125be8d-5c61-478d-8f95-19c70e71923a",
   "metadata": {},
   "source": [
    "## Modify the parameters of that plot\n",
    "\n",
    "The points are very large, so it's hard to see any pattern. We can make them smaller and transparent. "
   ]
  },
  {
   "cell_type": "code",
   "execution_count": null,
   "id": "ced9ff7a-8e47-4adb-852e-31f542aa2b56",
   "metadata": {},
   "outputs": [],
   "source": [
    "scatter(sensors.avg_occ, sensors.avg_speed_mph, fmt=:png, markersize=0.01, alpha=0.1)"
   ]
  },
  {
   "cell_type": "markdown",
   "id": "a726df2c-d9f6-4f77-99a8-ecb307087ce2",
   "metadata": {},
   "source": [
    "# Make the plot prettier\n",
    "\n",
    "We should label our axes at least, and remove the legend. In Julia, by convention functions that end in ! modify already existing objects - in this case, the plot created by scatter!"
   ]
  },
  {
   "cell_type": "code",
   "execution_count": null,
   "id": "67a5c24d-0e81-445a-a945-a963f91a95bb",
   "metadata": {},
   "outputs": [],
   "source": [
    "scatter(sensors.avg_occ, sensors.avg_speed_mph, fmt=:png, markersize=0.01, alpha=0.1, legend=false)\n",
    "xlabel!(\"Average occupancy\")\n",
    "ylabel!(\"Speed (mph)\")"
   ]
  },
  {
   "cell_type": "markdown",
   "id": "a1e59b37-aba4-456a-97d6-db884d76655b",
   "metadata": {},
   "source": [
    "## Other types of plots\n",
    "\n",
    "We can plot the average occupancy by time of day for specific sensors, to better understand traffic patterns. We will use the sensors defined below, which are [east and westbound I-580 on the Altamont Pass](https://www.openstreetmap.org/#map=15/37.7266/-121.6534) and [east and westbound I-80 on the San Francisco–Oakland Bay Bridge](https://www.openstreetmap.org/#map=14/37.8047/-122.3640)."
   ]
  },
  {
   "cell_type": "code",
   "execution_count": null,
   "id": "9d087b5f-5ca1-46c7-a974-9ab077ac6792",
   "metadata": {},
   "outputs": [],
   "source": [
    "ALTAMONT_WEST = 402033\n",
    "ALTAMONT_EAST = 402031\n",
    "BAY_BR_WEST = 404918\n",
    "BAY_BR_EAST = 402817"
   ]
  },
  {
   "cell_type": "markdown",
   "id": "74838ae4-9f3e-4a5a-a6a0-5461d1c71cce",
   "metadata": {},
   "source": [
    "### Create averages by time of day\n",
    "\n",
    "First, we need to create average occupancies for every hour of they day. To do this, we extract weekdays for these four sensors into a new dataset, then use split-apply-combine to extract the means."
   ]
  },
  {
   "cell_type": "code",
   "execution_count": null,
   "id": "868c8310-4d6a-436f-b205-1ddfb5368340",
   "metadata": {},
   "outputs": [],
   "source": [
    "sample = sensors[\n",
    "    (sensors.station .∈ Ref(Set([ALTAMONT_WEST, ALTAMONT_EAST, BAY_BR_WEST, BAY_BR_EAST]))) .&&\n",
    "    (Dates.dayabbr.(sensors.timestamp) .∈ Ref(Set([\"Mon\", \"Tue\", \"Wed\", \"Thu\", \"Fri\"]))), :]\n",
    "sample.hour = Dates.hour.(sample.timestamp)\n",
    "occ_by_hour = combine(\n",
    "    groupby(sample, [:station, :hour]),\n",
    "    :avg_occ => mean => :avg_occ\n",
    "    )"
   ]
  },
  {
   "cell_type": "markdown",
   "id": "32bb3853-8caf-47bd-9b53-b0fdc1f1ffc0",
   "metadata": {},
   "source": [
    "## Now, we can plot the data\n",
    "\n",
    "We can use the plot function for a line plot.\n",
    "\n",
    "Since we are plotting multiple series, we will add labels for each, and use the plot! function to add to the existing graph.\n",
    "\n",
    "Since we're only plotting 24 data points per sensor here, no need to use `fmt=:png` for performance."
   ]
  },
  {
   "cell_type": "code",
   "execution_count": null,
   "id": "ab9a812b-9f37-4074-b84f-3be49c76f2ee",
   "metadata": {},
   "outputs": [],
   "source": [
    "plot(\n",
    "    occ_by_hour[occ_by_hour.station .== ALTAMONT_WEST, :hour], # x axis\n",
    "    occ_by_hour[occ_by_hour.station .== ALTAMONT_WEST, :avg_occ], # y axis\n",
    "    label=\"Altamont West\"\n",
    ")\n",
    "\n",
    "plot!(\n",
    "    occ_by_hour[occ_by_hour.station .== ALTAMONT_EAST, :hour], # x axis\n",
    "    occ_by_hour[occ_by_hour.station .== ALTAMONT_EAST, :avg_occ], # y axis\n",
    "    label=\"Altamont East\"\n",
    ")\n",
    "\n",
    "plot!(\n",
    "    occ_by_hour[occ_by_hour.station .== BAY_BR_WEST, :hour], # x axis\n",
    "    occ_by_hour[occ_by_hour.station .== BAY_BR_WEST, :avg_occ], # y axis\n",
    "    label=\"Bay Bridge West\"\n",
    ")\n",
    "\n",
    "plot!(\n",
    "    occ_by_hour[occ_by_hour.station .== BAY_BR_EAST, :hour], # x axis\n",
    "    occ_by_hour[occ_by_hour.station .== BAY_BR_EAST, :avg_occ], # y axis\n",
    "    label=\"Bay Bridge East\"\n",
    ")"
   ]
  },
  {
   "cell_type": "markdown",
   "id": "d03f24b7-f93d-4ebf-93e1-a7982baa6832",
   "metadata": {},
   "source": [
    "## Shut down the kernel!\n",
    "\n",
    "When done, choose Kernel -> Shut Down Kernel to free memory for the next exercise."
   ]
  },
  {
   "cell_type": "code",
   "execution_count": null,
   "id": "d6ffa19f-dbe7-4d3f-8846-9001b7288cde",
   "metadata": {},
   "outputs": [],
   "source": []
  }
 ],
 "metadata": {
  "kernelspec": {
   "display_name": "Julia 1.7.2",
   "language": "julia",
   "name": "julia-1.7"
  },
  "language_info": {
   "file_extension": ".jl",
   "mimetype": "application/julia",
   "name": "julia",
   "version": "1.7.2"
  }
 },
 "nbformat": 4,
 "nbformat_minor": 5
}
