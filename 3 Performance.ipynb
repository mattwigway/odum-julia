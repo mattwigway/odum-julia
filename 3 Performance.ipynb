{
 "cells": [
  {
   "cell_type": "markdown",
   "id": "93fe9781-6b3b-4e83-aa71-783625b6b41c",
   "metadata": {},
   "source": [
    "# Performance\n",
    "\n",
    "This notebook covers some of the most common performance tips for Julia."
   ]
  },
  {
   "cell_type": "code",
   "execution_count": null,
   "id": "0c5b9973-00b1-4517-823c-8d06bb39a2e8",
   "metadata": {},
   "outputs": [],
   "source": [
    "using DataFrames, CSV"
   ]
  },
  {
   "cell_type": "code",
   "execution_count": null,
   "id": "c592d69e-58fa-4239-a85a-1f696767ac87",
   "metadata": {},
   "outputs": [],
   "source": [
    "sensors = CSV.read(\"data/bay_area_freeways.csv\", DataFrame)\n",
    "sensors = sensors[.!ismissing.(sensors.avg_occ),:];"
   ]
  },
  {
   "cell_type": "markdown",
   "id": "673ed3ab-0f84-4851-88a3-f68cc58c3090",
   "metadata": {},
   "source": [
    "## Loops are okay\n",
    "\n",
    "One of the fundamental control structures of computer programming is the loop, which allows executing code repeatedly.\n",
    "\n",
    "If you're used to programming in other dynamic languages (R, Python, etc.) you've likely been told to avoid using loops at all costs. In those languages, loops are very slow, because they do not know the types of the data structures being operated on in the loops. Instead, you are told to \"vectorize\" - use operations that operate on a whole array of data at once (most `np.` functions in Python, `vapply` in R, etc.). These functions are implemented in efficient native code written in C or C++, and thus avoid the overhead of a loop. In Julia, vectorized operations are available; in fact, any function or operator can be vectorized by adding a .\n",
    "\n",
    "If you're used to programming in static languages (C, Fortran, Java, etc.), using loops is likely second nature. These languages do not suffer from the problems described above. Julia is a mix of static and dynamic, but loops are not in general slow in Julia.\n",
    "\n",
    "In fact, using a loop in Julia is often more efficient than using vectorized operations in either Julia or other languages. In the code below, we're counting up the number of periods where traffic sensors had speeds above or below 30 mph. Using a vectorized operation, you might create two arrays, with ones for each observation where speed is above or below 30 mph, respectively, then sum them. This requires \n",
    "\n",
    "That said, if vectorized operations are more readable, there's nothing wrong with using them in Julia - vectorization is also fast in Julia, and the gains from using a loop are marginal and you should only try to optimize for speed over readability if speed really is an issue."
   ]
  },
  {
   "cell_type": "code",
   "execution_count": null,
   "id": "d803d4a7-596d-4fc0-9fa3-753bd4b394ae",
   "metadata": {},
   "outputs": [],
   "source": [
    "@time begin\n",
    "    count_under30mph = 0\n",
    "    count_over30mph = 0\n",
    "    \n",
    "    for value in sensors.avg_speed_mph\n",
    "        if value > 30\n",
    "            count_over30mph += 1\n",
    "        elseif value ≤ 30\n",
    "            count_under30mph += 1\n",
    "        end\n",
    "    end\n",
    "end"
   ]
  },
  {
   "cell_type": "markdown",
   "id": "2cbdf3da-a595-4ca1-a306-e3e2d4a0ee84",
   "metadata": {},
   "source": [
    "## Use functions so Julia's type system can optimize performance-critical code"
   ]
  },
  {
   "cell_type": "code",
   "execution_count": null,
   "id": "f605a7ef-5138-4873-a4ff-9bca5b2dbd0e",
   "metadata": {},
   "outputs": [],
   "source": [
    "function compute_sensor_values(data)\n",
    "    count_under30mph = 0\n",
    "    count_over30mph = 0\n",
    "    \n",
    "    for value in data.avg_speed_mph\n",
    "        if value > 30\n",
    "            count_over30mph += 1\n",
    "        elseif value ≤ 30\n",
    "            count_under30mph += 1\n",
    "        end\n",
    "    end\n",
    "    \n",
    "    return count_under30mph, count_over30mph\n",
    "end"
   ]
  },
  {
   "cell_type": "code",
   "execution_count": null,
   "id": "2e2f4666-0a6f-42f5-a5c3-7b20e7b1ba3e",
   "metadata": {},
   "outputs": [],
   "source": [
    "@time compute_sensor_values(sensors)"
   ]
  },
  {
   "cell_type": "markdown",
   "id": "521518b5-dab8-4ac7-a4e7-a4f78f2f753b",
   "metadata": {},
   "source": [
    "## Use @code_warntype to see performance problems"
   ]
  },
  {
   "cell_type": "code",
   "execution_count": null,
   "id": "c0f3618a-a816-4a73-825a-13ab1e119ec6",
   "metadata": {},
   "outputs": [],
   "source": [
    "@code_warntype compute_sensor_values(sensors)"
   ]
  },
  {
   "cell_type": "markdown",
   "id": "2bb35eb1-a439-4972-ad2f-1844e5f86291",
   "metadata": {},
   "source": [
    "## Fix performance problems by changing function parameters\n",
    "\n",
    "The problem is that DataFrames can contain any type of column, so Julia can't know that `avg_speed_mph` will always be a floaring point number. There are several ways to fix this; the most straightforward is to pass the column as an argument to the function, rather than the entire data frame. Each column has a defined type."
   ]
  },
  {
   "cell_type": "code",
   "execution_count": null,
   "id": "42ec80e5-45d2-4b2d-930b-51e03ca27bbd",
   "metadata": {},
   "outputs": [],
   "source": [
    "function compute_sensor_values_column(column)\n",
    "    count_under30mph = 0\n",
    "    count_over30mph = 0\n",
    "    \n",
    "    for value in column\n",
    "        if value > 30\n",
    "            count_over30mph += 1\n",
    "        elseif value ≤ 30\n",
    "            count_under30mph += 1\n",
    "        end\n",
    "    end\n",
    "    \n",
    "    return count_under30mph, count_over30mph\n",
    "end"
   ]
  },
  {
   "cell_type": "code",
   "execution_count": null,
   "id": "885fc24f-0d82-4f1c-88f3-bd30098c28e0",
   "metadata": {},
   "outputs": [],
   "source": [
    "@time compute_sensor_values_column(sensors.avg_speed_mph)"
   ]
  },
  {
   "cell_type": "code",
   "execution_count": null,
   "id": "c10fcf51-8a04-46cd-907a-0443ec7ce7d0",
   "metadata": {},
   "outputs": [],
   "source": [
    "@code_warntype compute_sensor_values_column(sensors.avg_speed_mph)"
   ]
  },
  {
   "cell_type": "markdown",
   "id": "991fb952-206c-40d8-b977-aadb6f7d1a99",
   "metadata": {},
   "source": [
    "## Looping over the rows of a data frame\n",
    "\n",
    "Sometimes you want to loop over the rows of a data frame, not just a single column. Because the column types are unknown, this can be quite slow, even inside a function. For example, suppose we want to compute how often a sensor is actually detecting a car, not the estimated amount of time based on filling in gaps using imputation."
   ]
  },
  {
   "cell_type": "code",
   "execution_count": null,
   "id": "4d71fb25-3e7b-4692-a459-0c2767435546",
   "metadata": {},
   "outputs": [],
   "source": [
    "function loop_over_rows(data)\n",
    "    total = 0\n",
    "    count = 0\n",
    "    \n",
    "    for row in eachrow(data)\n",
    "        total += row.pct_obs / 100 * row.avg_occ\n",
    "        count += 1\n",
    "    end\n",
    "    \n",
    "    total / count\n",
    "end"
   ]
  },
  {
   "cell_type": "code",
   "execution_count": null,
   "id": "57901267-651d-4fd4-a034-7504d9f103e2",
   "metadata": {},
   "outputs": [],
   "source": [
    "@time loop_over_rows(sensors)"
   ]
  },
  {
   "cell_type": "code",
   "execution_count": null,
   "id": "f437bc22-6943-4942-a10b-4014869a174f",
   "metadata": {},
   "outputs": [],
   "source": [
    "@code_warntype loop_over_rows(sensors)"
   ]
  },
  {
   "cell_type": "code",
   "execution_count": null,
   "id": "1f8ddd25-0ede-4035-8ada-5f0786396972",
   "metadata": {},
   "outputs": [],
   "source": [
    "function stable_loop_over_rows(itr)\n",
    "    total = 0\n",
    "    count = 0\n",
    "    \n",
    "    for row in itr\n",
    "        total += row.pct_obs / 100 * row.avg_occ\n",
    "        count += 1\n",
    "    end\n",
    "    \n",
    "    total / count\n",
    "end"
   ]
  },
  {
   "cell_type": "code",
   "execution_count": null,
   "id": "9341fbaa-5479-4773-9380-442341849884",
   "metadata": {},
   "outputs": [],
   "source": [
    "@time stable_loop_over_rows(Tables.namedtupleiterator(sensors))"
   ]
  },
  {
   "cell_type": "code",
   "execution_count": null,
   "id": "6980c8fe-b032-4153-8c77-4aac3898d19b",
   "metadata": {},
   "outputs": [],
   "source": [
    "@code_warntype stable_loop_over_rows(Tables.namedtupleiterator(sensors))"
   ]
  },
  {
   "cell_type": "markdown",
   "id": "4039cba4-5607-421d-a630-557ea2519954",
   "metadata": {},
   "source": [
    "## Shut down the kernel!\n",
    "\n",
    "When done, choose Kernel -> Shut Down Kernel to free memory for the next exercise."
   ]
  },
  {
   "cell_type": "code",
   "execution_count": null,
   "id": "4b6aca1c-0027-4494-9b13-6f147a5eb45e",
   "metadata": {},
   "outputs": [],
   "source": []
  }
 ],
 "metadata": {
  "kernelspec": {
   "display_name": "Julia 1.7.2",
   "language": "julia",
   "name": "julia-1.7"
  },
  "language_info": {
   "file_extension": ".jl",
   "mimetype": "application/julia",
   "name": "julia",
   "version": "1.7.2"
  }
 },
 "nbformat": 4,
 "nbformat_minor": 5
}
