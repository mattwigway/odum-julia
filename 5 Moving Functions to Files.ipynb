{
 "cells": [
  {
   "cell_type": "markdown",
   "id": "7e0d5489-2a98-4023-91e6-1be47b30c7d0",
   "metadata": {},
   "source": [
    "# Moving functions to files\n",
    "\n",
    "As a project grows, it may outgrow a single notebook. But there are often blocks of code that are common between notebooks, for instance to clean data or perform some basic but project specific analysis. It is unwise to copy the same code into multiple files/notebooks, because it is hard to keep track of. Rather, it's better to move those functions into a Julia `.jl` file. This is just a text file containing Julia code. You can then include the functions in that file into any notebook using the `include(\"file.jl\")` function in Julia.\n",
    "\n",
    "The downside to using `include()` is that when you're developing functions, you have to restart Julia to reload the function. The `Revise` package avoids this by automatically reloading functions as you edit the file you included when you load the files with `includet(\"file.jl\")` (include and track changes). First, you will have to install Revise.\n",
    "\n",
    "Here, we have a function that computes vehicle density (number of vehicles per mile) based on speed and flow, a common value used in traffic engineering. The function `vehicle_density(flow, speed_mph)` and is saved in the `common_functions.jl` file."
   ]
  },
  {
   "cell_type": "code",
   "execution_count": null,
   "id": "bb6dc1b0-a96e-4ae0-905a-de64e6b15f8d",
   "metadata": {},
   "outputs": [],
   "source": [
    "using Revise, DataFrames, CSV, StatsBase"
   ]
  },
  {
   "cell_type": "markdown",
   "id": "1f69ed71-4b96-4f78-997b-afbdfe59befe",
   "metadata": {},
   "source": [
    "## Read the data\n",
    "\n",
    "As we've done before."
   ]
  },
  {
   "cell_type": "code",
   "execution_count": null,
   "id": "e0d512c9-b636-41b9-a6e4-849f6f9c7831",
   "metadata": {},
   "outputs": [],
   "source": [
    "sensors = CSV.read(\"data/bay_area_freeways.csv\", DataFrame)\n",
    "meta = CSV.read(\"data/sensor_meta.csv\", DataFrame)\n",
    "sensors = leftjoin(sensors, meta, on=:station=>:ID);"
   ]
  },
  {
   "cell_type": "markdown",
   "id": "689318b0-d955-479d-bb7e-63c5730a5663",
   "metadata": {},
   "source": [
    "## Include the common_functions.jl file"
   ]
  },
  {
   "cell_type": "code",
   "execution_count": null,
   "id": "ed64a87b-e676-4b86-8705-eeb01171eae0",
   "metadata": {},
   "outputs": [],
   "source": [
    "includet(\"common_functions.jl\")"
   ]
  },
  {
   "cell_type": "markdown",
   "id": "3addeeef-b1be-4ad0-bb3b-4ec3a80d686a",
   "metadata": {},
   "source": [
    "## Calculate average vehicle density"
   ]
  },
  {
   "cell_type": "code",
   "execution_count": null,
   "id": "ff46a886-71cb-47a6-90be-24bf422eddf6",
   "metadata": {},
   "outputs": [],
   "source": [
    "mean(vehicle_density.(sensors.total_flow, sensors.avg_speed_mph))"
   ]
  },
  {
   "cell_type": "markdown",
   "id": "65a0e689-6604-44d6-b6b6-c4277a87fd94",
   "metadata": {},
   "source": [
    "## Fix the function\n",
    "\n",
    "That number seems suspiciously low. The reason is that the total flow is vehicles per five minutes, not vehicles per hour. We need to multiply flow by 12 to get the right answer. Edit the `common_functions.jl` file to multiply flow by 12 in the computation, and run the cell above again."
   ]
  },
  {
   "cell_type": "markdown",
   "id": "35609280-e5b2-4e9a-b4d4-4973a6636b65",
   "metadata": {},
   "source": [
    "## Add a new function\n",
    "\n",
    "We can also add new functions to our file and have Revise pick them up automatically. Add a function called `per_lane_density` that calculates _per-lane_ vehicle density based on flow, speed, and number of lanes."
   ]
  },
  {
   "cell_type": "code",
   "execution_count": null,
   "id": "6a218a18-d62e-40ae-a5a3-be97bf81f596",
   "metadata": {},
   "outputs": [],
   "source": [
    "mean(per_lane_density.(sensors.total_flow, sensors.avg_speed_mph, sensors.Lanes))"
   ]
  },
  {
   "cell_type": "code",
   "execution_count": null,
   "id": "796b110b-f728-4c28-8f44-3b981d67200b",
   "metadata": {},
   "outputs": [],
   "source": []
  }
 ],
 "metadata": {
  "kernelspec": {
   "display_name": "Julia 1.7.2",
   "language": "julia",
   "name": "julia-1.7"
  },
  "language_info": {
   "file_extension": ".jl",
   "mimetype": "application/julia",
   "name": "julia",
   "version": "1.7.2"
  }
 },
 "nbformat": 4,
 "nbformat_minor": 5
}
